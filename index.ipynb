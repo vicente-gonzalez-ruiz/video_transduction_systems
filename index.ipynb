{
 "cells": [
  {
   "cell_type": "markdown",
   "metadata": {},
   "source": [
    "# Video transduction systems"
   ]
  },
  {
   "cell_type": "markdown",
   "metadata": {},
   "source": [
    "## The telescope\n",
    "\n",
    "* Historians say that the telescope was invented by the Dutch optician Hans Lippershey in the early seventeenth century. However, the first astronomical discoveries (such as the observation of the phases of Venus or the main moons of Jupiter) were carried out by the Italian physicist and astronomer Galileo Galiei. Thanks to his observations he discovered that the Earth revolved around the Sun, and not the other way around, as the Church maintained, and for that reason he was condemned to life imprisonment.\n",
    "\n",
    "* Basically, a telescope is an instrument that collects light and concentrates it at a point, where we put the eye, a CCD or a photographic film. In this way, objects can be observed that, due to their distance, bring to us a quantity of luminous radiation that can not be perceived by the naked eye."
   ]
  },
  {
   "cell_type": "markdown",
   "metadata": {},
   "source": [
    "### The refractor telescope\n",
    "\n",
    "* It was the first type of telescope invented, and it is the kind of telescope that Galileo used.\n",
    "* It uses a system of at least two converging lenses (one for the objetive and one eyepiece).\n",
    "\n",
    "<img src=\"data/refractor.png\">\n",
    "\n",
    "* There are oculars with more than one lens in order to avoid the chromatic aberration that, because the different electromagnetic signals with different wavelengths (colors) are refracted at different angles, causes the observed aureoles with the colors of the rainbow.\n",
    "\n",
    "|     |\n",
    ":---: | :---: |:---:\n",
    "![alt](data/chromaticaberration3.jpg) | ![alt](data/chromaticaberration2.jpg) | ![alt](data/doblete.jpg)\n",
    "Cause | Effect | Solution \n",
    "\n",
    "![](data/aberracion_cromatica.jpg)"
   ]
  },
  {
   "cell_type": "markdown",
   "metadata": {},
   "source": [
    "### The reflector telescope\n",
    "\n",
    "* In these telescopes the objective is a concave mirror and the eyepiece is a converging lens.\n",
    "* There are several types:"
   ]
  },
  {
   "cell_type": "markdown",
   "metadata": {},
   "source": [
    "#### 1. The reflector telescope of Newton.\n",
    "\n",
    "In 1671 the English scientist, physicist, philosopher, inventor, alchemist and mathematician Isaac Newton placed a concave mirror and a small flat mirror between the lens and its focal plane at the bottom of a tube with a tilt of 45$^o$ so that the rays that make up the image will deviate 90$^o$ so that it could be observed by an eyepiece placed outside the tube.\n",
    "    \n",
    "![](data/Newton.png)\n",
    "![](data/Newton-telescope.png)\n",
    "    \n",
    "Having no glasses (except in the eyepiece, of course), there is no chromatic aberration. However, the mirror has to be a perfect parable. If not, the effect of spherical aberration occurs (the Hubble Space Telescope had this defect!).\n",
    "\n",
    "Spherical mirror           |  Parabolic mirror\n",
    ":-------------------------:|:-------------------------:\n",
    "![](data/esferico.jpg)     |  ![](data/parabolico.jpg)\n",
    "\n",
    "With spherical aberration  | Without spherical aberration\n",
    ":-------------------------:|:-------------------------:\n",
    "![](data/con_aberracion_esferica.jpg)  | ![](data/sin_aberracion_esferica.jpg)\n",
    "![](data/con_aberracion_esferica2.jpg) | ![](data/sin_aberracion_esferica2.jpg)"
   ]
  },
  {
   "cell_type": "markdown",
   "metadata": {},
   "source": [
    "#### 2. The Cassegrain reflector telescope.\n",
    "\n",
    "Because of the tilted mirror, Newton's telescope has a blind spot in the center of the \"target\". In 1962, Laurent Cassegrain took advantage of this circumstance to make a hole in it (right in the center) in order to draw light rays through it. For this, he replaced the flat mirror with a convex mirror. In this way we can increase the focal length while maintaining the length of the tube. It also has the advantage of not inverting the observed scenes (from right to left and from top to bottom).\n",
    "\n",
    "![](data/Cassegrain.png)\n",
    "![](data/Cassegrain-telescope.png)\n",
    "\n",
    "Much later, in the twentieth century, many variations of the Cassagrain refractor have emerged, such as [Schmidt-Cassegrain](https://en.wikipedia.org/wiki/Schmidt%E2%80%93Cassegrain_telescope) and [Maksutov-Cassegrain](en.wikipedia.org/wiki/Maksutov/_telescope)."
   ]
  },
  {
   "cell_type": "markdown",
   "metadata": {},
   "source": [
    "### Magnification of a telescope\n",
    "\n",
    "The number of $Z$ magnifications of a telescope is equal to the focal length of the objective $d$ divided by the focal length of the ocular eye $d_0$:\n",
    "\n",
    "<a id='eq:magnification'></a>\n",
    "\\begin{equation}\n",
    "  Z = \\frac{d}{d_0}\n",
    "  \\tag{eq:magnification}\n",
    "  \\label{eq:maginfication}\n",
    "\\end{equation}\n",
    "\n",
    "(In ZxD binoculars, the first value, Z, indicates the magnification and the second, D, the diameter, in millimeters, of the objectives.)\n",
    "\n",
    "[For example](http://www.astrosurf.com/astronosur/telescopios1.htm), if we use a telescope with a focal length of 910 millimeters, with a typical eyepiece of 25 mm, the magnification is 36.4x.\n",
    "\n",
    "A variety of interchangeable eyepieces can be used in an acessing telescope, keeping the same objective. The eyepieces that have the shortest focal length are those that produce the greatest increase. If we also put the Barlow lens, the focal length of the telescope multiplies, multiplying, logically, the increases."
   ]
  },
  {
   "cell_type": "markdown",
   "metadata": {},
   "source": [
    "### Focal distance\n",
    "\n",
    "The way in which the focal length of a telescope's objective is calculated depends on whether it is a refractor or reflector telescope."
   ]
  },
  {
   "cell_type": "markdown",
   "metadata": {},
   "source": [
    "#### Refractor\n",
    "For a convergent, biconvex lens, the focal length, that is, the distance from the lens to the focal plane, is calculated as\n",
    "\n",
    "\\begin{equation}\n",
    "  d=\\frac{R_eR_i}{(n-1)R_eR_i},\n",
    "\\end{equation}\n",
    "\n",
    "where $R_e$ is the radius of curvature of the outer surface of the lens, $R_i$ is the radius of curvature of the inner surface of the lens (see the scheme of Newton's refractor telescope) and $n$ is the index of refraction of the light that occurs in the lens, which depends on its wavelength of light and the chemical composition of the lens."
   ]
  },
  {
   "cell_type": "markdown",
   "metadata": {},
   "source": [
    "#### Reflector\n",
    "\n",
    "The main mirror (objective) of a reflecting mirror [must be parabolic](http://www.astrosurf.com/astrocaza/Opticas.html) so that the light concentrates in a single point. By definition, a [parabola](https://en.wikipedia.org/wiki/Parabola) is the set of points on a plane that are the same distance from a fixed point $F$, called the focus of the parabola, that of a fixed line $L$, called the guideline of the parabola, that does not contain the point $F$. The midpoint $V$ between the focus and the directrix is called the vertex of the parabola, and the line that passes through the focus and the vertex is called the axis of the parabola. Reflector telescopes use parabolic mirrors because any ray parallel to the axis of the [parabola](https://www.todoexpertos.com/categorias/ciencias-e-ingenieria/matematicas/respuestas/1341850/calculo-de-la-longitud-de-la-parabola) and reflected in it passes through the focus.\n",
    "\n",
    "<img src=\"data/parabola.png\" width=400>\n",
    "\n",
    "The equation of a parabola responds to the expression:\n",
    "\\begin{equation}\n",
    "    y = ax^2+bx+c,\n",
    "\\end{equation}\n",
    "where $b$ and $c$ define the position of $V$ in the plane, and defines the opening of the parabola. Any parabola can be constructed from $F$ and $L$, being the minimum distance between both elements of\n",
    "\\begin{equation}\n",
    "   p=\\frac{2}{a}.\n",
    "\\end{equation}\n",
    "\n",
    "Assuming that $b=c=0$, that is, that the $V$ is in the point (0,0), which for the calculation of the focal length is assumable, the distance of $F$ to $V$ (the focal distance) is\n",
    "\\begin{equation}\n",
    "   d=\\frac{p}{2} = a^{-1}.\n",
    "\\end{equation}\n",
    "\n",
    "(Remember that the vertex is always halfway between the directrix and the focus of the parabola.)"
   ]
  },
  {
   "cell_type": "markdown",
   "metadata": {},
   "source": [
    "### Resolution\n",
    "\n",
    "It is called resolution (or separating power) of a telescope to the ability to individually show two objects that are very close together. The resolution is usually linked to the diameter of the lens, given that the larger the diameter, the greater the separating power of the instrument.\n",
    "\n",
    "(In the case of a reflecting telescope, for example, the larger the mirror, the less its possible imperfections are apparent, such as spherical aberration, scratches, dust spots, fingerprints, etc.)\n",
    "\n",
    "The resolution does not depend on the magnification used, only on the quality of the elements that make up the telescope.\n",
    "\n",
    "<img src=\"data/difraccion_Fraunhofer.jpg\">\n",
    "\n",
    "The lack of resolution causes an effect known as Fraunhofer's Diffraction. This aberration causes a spot light spot observed by the telescope to be observed through it as a [sampling function](https://cdn.rawgit.com/vicente-gonzalez-ruiz/Harmonic_Analysis/master/index.html#Fourier-transform-of-the-Rectangular-Signal-$Ag_\\tau(t)$:-the-Sinc-signal)."
   ]
  },
  {
   "cell_type": "markdown",
   "metadata": {},
   "source": [
    "### Luminosity\n",
    "\n",
    "Luminosity is an essential aspect because the brighter a telescope is, the weaker the objects observed can be. The brightness of a telescope depends on both the brightness of the lens and the brightness of the eyepiece.\n",
    "\n",
    "The luminosity is inversely proportional to what is known as the focal relationship. The focal ratio $f$ (of a mirror or a lens) is calculated as the ratio between the focal length $d$ and its diameter $D$, i.e.\n",
    "\n",
    "<a id='eq:relacion_focal'></a>\n",
    "\\begin{equation}\n",
    "   f=\\frac{d}{D}.\n",
    "   \\label{eq:relacion_focal}\n",
    "  \\tag{eq:relacion_focal}\n",
    "\\end{equation}\n",
    "\n",
    "Therefore, the larger the main mirror of a re fl ector or the main lens of a refractor, the more light it will collect, and the brighter the telescope will be. The same happens if the focal distance is smaller."
   ]
  },
  {
   "cell_type": "markdown",
   "metadata": {},
   "source": [
    "### Field of view\n",
    "\n",
    "Define how much of the sky we can see when we look through the eyepiece.\n",
    "\n",
    "The field (or angle) of vision is inversely proportional to the magnifications of the telescope (ratio between the focal lengths of the objective and the eyepiece (see [eq:magnification](#eq:magnification))."
   ]
  },
  {
   "cell_type": "markdown",
   "metadata": {},
   "source": [
    "## Photographic objectives\n",
    "\n",
    "The photographic lenses are basically refractor telescopes with few magnifications, although there are also Cassegrain-type reflective objectives when many increases are demanded.\n",
    "\n",
    "<img src=\"data/Sony_Alpha_55_with_Minolta_500_F8_Reflex.jpg\">\n",
    "\n",
    "They generally have smaller focal lengths (less magnification) than telescopes and, therefore, large fields of vision.\n",
    "\n",
    "The most important parameters of a photographic objective are:\n",
    "\n",
    "1. The range of focal lengths (the range of magnifications). It is measured in millimeters. A more millimeters, more zoom.\n",
    "\n",
    "2. The luminosity. It is measured using the focal ratio (see [eq:relacion_focal](#eq:relacion_focal)). The photographic lenses, having a diaphragm, have a variable D. At lower f, more luminosity.\n",
    "\n",
    "<img src=\"data/diafragma-desnudo.jpg\">"
   ]
  },
  {
   "cell_type": "markdown",
   "metadata": {},
   "source": [
    "### Targets with fixed focus versus zoom lenses\n",
    "\n",
    "As its name suggests, fixed length targets only provide a fixed value of increases. On the other hand, the image quality is generally higher (at the same price) to those who have zoom because in a lens with variable focal length the lenses tend to suffer small imbalances in their situation within the lens (the lenses move from their ideal position)."
   ]
  },
  {
   "cell_type": "markdown",
   "metadata": {},
   "source": [
    "### The focus\n",
    "\n",
    "All telescopes are focused on infinity. However, photographic lenses allow you to vary the focus distance, from infinity to a few centimeters.\n",
    "\n",
    "When a objective focuses at a certain distance, objects at other distances appear blurry (unfocused).\n",
    "\n",
    "<img src=\"data/800px-DOF-ShallowDepthofField.jpg\">"
   ]
  },
  {
   "attachments": {},
   "cell_type": "markdown",
   "metadata": {},
   "source": [
    "### The depth of field\n",
    "\n",
    "The depth of field is the maximum distance at which the objects can be separated from the focusing distance, and still these objects remain (partially) focused.\n",
    "\n",
    "<div id=\"image-table\">\n",
    "    <table>\n",
    "\t    <tr>\n",
    "    \t    <td style=\"padding:5px\">\n",
    "                <img src=\"data/Jonquil_flowers_at_f5.jpg\" width=400>\n",
    "                With little depth\n",
    "      \t    </td>\n",
    "            <td style=\"padding:5px\">\n",
    "            \t<img src=\"data/800px-Jonquil_flowers_at_f32.jpg\" width=400>\n",
    "                With big depth\n",
    "             </td>\n",
    "        </tr>\n",
    "    </table>\n",
    "</div>"
   ]
  },
  {
   "cell_type": "markdown",
   "metadata": {},
   "source": [
    "### The exposure time\n",
    "\n",
    "During the capture, the photographic film in the analog cameras or the CCD in the digital one, the amount of light taken is proportional to the light intensity and the exposure time. Therefore, when the light is weak, the exposure time should increase and the diaphragm should open.\n",
    "\n",
    "If the light radiation is excessive, the photograph taken is said to be overprinted, overexposed or \"burned\". If the radiation has been insufficient, it is said to be underexposed.\n",
    "\n",
    "The exposure time controls, of course, the recording of the movement of moving objects that are photographed.\n",
    "\n",
    "<div id=\"image-table\">\n",
    "    <table>\n",
    "\t    <tr>\n",
    "    \t    <td style=\"padding:5px\">\n",
    "                <img src=\"data/800px-E17_-_korte_sluitertijd.jpg\" width=400>\n",
    "                Short exposure time\n",
    "      \t    </td>\n",
    "            <td style=\"padding:5px\">\n",
    "            \t<img src=\"data/800px-E17_-_lange_sluitertijd.jpg\" width=400>\n",
    "                Long exposure time\n",
    "             </td>\n",
    "        </tr>\n",
    "    </table>\n",
    "</div>"
   ]
  },
  {
   "attachments": {},
   "cell_type": "markdown",
   "metadata": {},
   "source": [
    "### The diaphragm\n",
    "\n",
    "Only photographic lenses have a diaphragm.\n",
    "\n",
    "The diaphragm limits the amount of light that passes through the lens to the photographic film or CCD. Therefore, if we open the diaphragm we should reduce the exposure times and vice versa.\n",
    "\n",
    "<img src=\"data/diafragma.jpg\">\n",
    "\n",
    "The opening of the diaphragm also controls the depth of field (when we open the diaphragm the depth of field decreases and vice versa). To understand this, imagine a camera obscura, or a Web-cam, where the size of the diaphragm is almost punctual. In these two elements, all objects, from a certain minimum distance, appear focused in the plane of the film. This is because the refraction of the light can hardly modify the direction of the light rays when crossing the objective, since the diameter of it is much smaller than the distance from the objective to the object. When we open the diaphragm of a camera, the effective diameter of the lens increases, so that the light rays that strike just the edges of the diaphragm are refracted with different angles (greater) than the rays that pass right through the center of the lens. Then, only that fl ocal plane that converges on the film will be the center of the set (in fi nite) of planes that de fi ne the depth of field. The rest of the planes, being at different distances, are focused in front of or behind the film.\n",
    "\n",
    "<img src=\"data/diafragma_profundidad_campo_small.png\">"
   ]
  },
  {
   "cell_type": "markdown",
   "metadata": {},
   "source": [
    "## Operation of an amplifier\n",
    "\n",
    "* Most amplifiers are designed from transistors and/or vacuum valves. An element of this type is an electronic device that has three \"legs\": (1) the emitter, (2) the base and the (3) collector. The base controls the amount of direct current that the transistor crosses from the emitter to the collector. If we call $I_b$ the current that enters through the base, the current that passes through the transistor is\n",
    "$$I = \\beta × I_b,$$\n",
    "where $\\beta$ is the gain of the transistor.\n",
    "\n",
    "* Very schematically, an amplifier, a microphone and a speaker are related as follows:\n",
    "\n",
    "<img src=\"data/transistor.png\" width=400>\n",
    "\n",
    "* The amplification level depends on the gain $beta$, since it defines the relationship between the amplitudes of the input signal $I_b$ and the output $I$. This gain is controlled by the volume potentiometer of the amplifier. For example, if $\\beta=2$:\n",
    "\n",
    "<img src=\"data/amplificacion.png\" width=500>"
   ]
  },
  {
   "cell_type": "markdown",
   "metadata": {},
   "source": [
    "## Main characteristics of audio amplifiers\n",
    "\n",
    "* Power: Refers to the maximum electrical power (measured in watts) that can give the amplifier before it distorts.\n",
    "\n",
    "<img src=\"data/distorsion.png\" width=500>\n",
    "\n",
    "* Linearity: The ideal amplifier amplifies exactly all the amplitudes of input current with the same gain. Currently, the most linear amplifiers are those that are built with valves.\n",
    "\n",
    "* Frequency response or harmonic distortion: Like a mic or a loudspeaker, the ideal amplifier should transduce all the frequency bands of the audible spectrum (20 Hz to 20 KHz) with the same power. When faced with a pure sinusoidal signal, most amplifiers tend to generate harmonics and/or to produce spectral dispersion (around the pure tone other lower intensity tones appear in the frequency).\n",
    "\n",
    "* The signal-to-noise ratio: All electronic elements produce electronic noise (from thermal sources, interference, etc.). The relationship between the power of the noise and the maximum signal power that can be amplified, is known as SNR (Signal-to-Nose Ratio)."
   ]
  },
  {
   "cell_type": "markdown",
   "metadata": {},
   "source": [
    "## Storage media\n",
    "\n",
    "1. The vinyl record: Appeared at the beginning of the 20th century. It is a vinyl plastic disk in which a spiral groove (that has microscopic deformations) is scratched. A needle (ideally of diamond) slides through the groove and vibrates because of these deformations. Finally, these vibrations are transduced (using a special type of micro) to electrical signals.\n",
    "\n",
    "2. The magnetic tape: It appeared in the middle of the XX century. It consists of a flexible plastic band impregnated with some ferromagnetic material (usually iron oxide or chromium oxide). A coil (head) moves along the tape and magnetizes the material at the time it is recorded on the tape. When reproduced, the magnetized material induces an electric current in the coil."
   ]
  },
  {
   "cell_type": "markdown",
   "metadata": {},
   "source": [
    "## Noise reduction systems\n",
    "\n",
    "* As already indicated, there is no active electronic element (ampli¡fier) or passive (storage) that is free of noise. To reduce it as much as possible, noise reduction systems were devised, especially for magnetic tapes that have a noise that is significantly audible in the absence of a signal.\n",
    "\n",
    "* The noise produced by a magnetic tape is of white type (occupies the entire frequency range) and has a constant volume, but small. As we know, the HAS is not able to perceive the weak sounds in the presence of the strong ones and therefore, the noise of a tape will only be perceptible when the signal to register is weak.\n",
    "\n",
    "* Dolby Laboratories became famous for designing (and patenting) the first noise reduction system for magnetic tapes. Before recording the signal, a Dolby NR system (Noise Reduction) on the tape proceeds to amplify the low amplitudes and attenuate the high amplitudes, following a logarithmic scale (this is what is known as a audio (analog) compressor). After reading the distorted signal of the tape, it is necessary to attenuate (using an audio expander) the low amplitudes and to amplify the high ones, obtaining the original signal. Since the noise is of low amplitude, the expander attenuates it. The effect is a reproduction of greater fidelity.\n",
    "\n",
    "<img src=\"data/DolbyNR.png\">"
   ]
  },
  {
   "cell_type": "markdown",
   "metadata": {},
   "source": [
    "## Number of channels\n",
    "\n",
    "1. Monophonic systems: They have a single audio channel.\n",
    "2. Stereo systems: They have two channels, one for the left ear ($L$) and the other for the right ($R$).\n",
    "3. Dolby Surround: They have two channels, but the appearance of two others can be simulated. In the late 70s, Ray Dolby patented the Dolby Surround system. At that time, stereo systems were only used in movie theaters and Dolby had the happy idea of creating two more virtual channels called central ($C$) and surround or surround ($S$).\n",
    "\n",
    "  The success of Dolby was due to the fact that the system was completely compatible with normal stereo systems: a tape or a disc recorded with Surround could be heard on normal equipments, with two speakers.\n",
    "\n",
    "  In many episodes of a stereo recording, the content of the L and R channels are practically identical. This can happen, for example, when an airplane located right in front (in the center of the screen) comes in our direction, passes over our head and goes off on our backs.\n",
    "\n",
    "  In order to realize that the plane is the source of the sound, Dolby proposed placing a channel called \"center\" ($C$) just behind the fabric of the screen and another called \"surround\" ($S$) at our back. By definition,\n",
    "  \n",
    "  $$C = L + R$$\n",
    "  $$S = L - R.$$\n",
    "\n",
    "  Dolby knew that the ear is not sensitive to the phase of the signal, only to its amplitude and proposed to encode the back channel as the difference of the phase of $L$ and the phase of $R$. Defacing an audio signal with respect to another means delaying it in time some milliseconds. In the airplane scene, where $L = R$ is satisfied, when there is no lag:\n",
    "  $$ C = L + R = 2R = 2L$$\n",
    "  $$ S = R - L = 0.$$\n",
    "\n",
    "  And when there is a maximum phase shift ($180^o$):\n",
    "  $$C = L + R = R + R = 0$$\n",
    "  $$S = R - L = 2R = 2L$$.\n",
    "  \n",
    "* Thus, if we do not want the central channel to sound anything, $L$ and $R$ should be phased $180^o$, and vice versa. And $L$ and $R$ are heard as before, whether or not there is a lag.\n",
    "\n",
    "4. Dolby Digital (DD): This is a digital storage system with 5.1 channels: $L$, $R$, $C$, $RL$ (Rear Left) and $RR$ (Rear Right). The \".1\" reference to the LFE channel (Low Frequency Effect), a low frequency channel (normally centered at 120 Hz).\n",
    "\n",
    "5. Digital Theater System (DTS): It has the same number of channels as DD, although it supports higher sampling frequencies and arithmetic precision to represent audio samples."
   ]
  },
  {
   "cell_type": "code",
   "execution_count": null,
   "metadata": {},
   "outputs": [],
   "source": []
  }
 ],
 "metadata": {
  "kernelspec": {
   "display_name": "Python 3",
   "language": "python",
   "name": "python3"
  },
  "language_info": {
   "codemirror_mode": {
    "name": "ipython",
    "version": 3
   },
   "file_extension": ".py",
   "mimetype": "text/x-python",
   "name": "python",
   "nbconvert_exporter": "python",
   "pygments_lexer": "ipython3",
   "version": "3.6.4"
  }
 },
 "nbformat": 4,
 "nbformat_minor": 2
}
