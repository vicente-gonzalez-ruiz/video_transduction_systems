{
 "cells": [
  {
   "cell_type": "markdown",
   "metadata": {},
   "source": [
    "# Audio transduction systems"
   ]
  },
  {
   "cell_type": "markdown",
   "metadata": {},
   "source": [
    "## The microphone and the speaker\n",
    "\n",
    "* The microphone and speaker were invented by Scottish Alexander Graham Bell in 1876.\n",
    "* The microphone and speaker are electroacoustic transducers. A \"micro\" transforms the vibrations due to the acoustic pressure exerted on its membrane by the sound waves in electrical energy. The speaker does just the opposite.\n",
    "\n",
    "<img src=\"data/esquema_microfono.png\" width=400> <img src=\"data/esquema_altavoz.png\" width=400>"
   ]
  },
  {
   "cell_type": "markdown",
   "metadata": {},
   "source": [
    "## Types of microphones and speakers\n",
    "\n",
    "* Surprisingly, both elements have many things in common. In fact, we can use a speaker as a microphone (although it is not ideal), and a microphone as a small speaker (although it is not ideal, of course).\n",
    "\n",
    "    1. Microphones/Condenser loudspeakers: The membrane that moves / produces the sound waves is solidary to one of the faces of a condenser that when moving with the sound, modifies its capacity, and this is registered electrically. On the loudspeaker the incoming variable intensity electricity causes the faces to attract or repel each other.\n",
    "    2. Microphones/Coil loudspeakers: The membrane is integral with a coil that moves inside / produces a magnetic field. In the micro, when moving, an electric current is induced. In the loudspeaker, the electric current causes the coil to move and with it the membrane.\n",
    "    3. Microphones/Piezoelectric speakers: In the micro the membrane moves a piezoelectric material1. In the loudspeaker, the pizoelectric material contracts or expands depending on the intensity of current that passes through it."
   ]
  },
  {
   "cell_type": "code",
   "execution_count": 3,
   "metadata": {},
   "outputs": [
    {
     "data": {
      "text/html": [
       "<style>\n",
       "    /* Three image containers (use 25% for four, and 50% for two, etc) */\n",
       ".column {\n",
       "  float: left;\n",
       "  width: 33.33%;\n",
       "  padding: 5px;\n",
       "}\n",
       "\n",
       "/* Clear floats after image containers */\n",
       ".row::after {\n",
       "  content: \"\";\n",
       "  clear: both;\n",
       "  display: table;\n",
       "}\n",
       "</style>"
      ],
      "text/plain": [
       "<IPython.core.display.HTML object>"
      ]
     },
     "metadata": {},
     "output_type": "display_data"
    }
   ],
   "source": [
    "%%html\n",
    "<style>\n",
    "    /* Three image containers (use 25% for four, and 50% for two, etc) */\n",
    ".column {\n",
    "  float: left;\n",
    "  width: 33.33%;\n",
    "  padding: 5px;\n",
    "}\n",
    "\n",
    "/* Clear floats after image containers */\n",
    ".row::after {\n",
    "  content: \"\";\n",
    "  clear: both;\n",
    "  display: table;\n",
    "}\n",
    "</style>"
   ]
  },
  {
   "cell_type": "markdown",
   "metadata": {},
   "source": [
    "## Main characteristics of the microphones\n",
    "* Because the periodic nature of the sound waves, we can also represent the basis of the frequency components (pure sinusoidal signals), that compose them. This is done using Fourier analysis. The result is a graph of the type:\n",
    "\n",
    "    1. Its transduction power: The electrical signals produced by a microphone are usually weak (because the energy of the captured sound waves is low) and must be amplified. In fact, some microphones have an amplifier (\"the preamp\") and require external power.\n",
    "    2. Its linearity: The ideal micro should transduce with the same power all the sound intensities.\n",
    "<img src=\"data/lineal.png\" width=\"400\">\n",
    "    3. Its response in frequency or harmonic distortion: The ideal microphone transduces with the same power all the frequency bands of the audible spectrum (20 Hz to 20 KHz).\n",
    "<img src=\"data/800px-Oktava319vsshuresm58.png\">\n",
    "    4. Directionality: Indicates the direction within the 3D space that is best recorded by the micro. There is talk of unidirectional microphones when they have to be directed towards the source of sound, bidirectional when they record just what is on one side of the microphone and on the opposite and omnidirectional, when they record all sounds equally, regardless of their origin.\n",
    " \n",
    "<div class=\"row\">\n",
    "  <div class=\"column\">\n",
    "      <img src=\"data/480px-Polar_pattern_figure_eight.png\">\n",
    "  </div>\n",
    "  <div class=\"column\">\n",
    "      <img src=\"data/480px-Polar_pattern_cardioid.png\">\n",
    "  </div>\n",
    "  <div class=\"column\">\n",
    "      <img src=\"data/480px-Polar_pattern_omnidirectional.png\">\n",
    "  </div>"
   ]
  },
  {
   "cell_type": "markdown",
   "metadata": {},
   "source": [
    "## Main characteristics of the speakers\n",
    "\n",
    "1. Transduction power: Refers to the maximum electrical power that can enter the speaker (not the generated acoustic power) before it distorts excessively or can be damaged. This power P depends on the current I and the impedance of the Z coil, according to\n",
    "$$P = I^2Z,$$\n",
    "where $Z$ depends on the frequency.\n",
    "\n",
    "2. Linearity: The ideal speaker should transduce all currents with equal power.\n",
    "\n",
    "3. Frequency response or harmonic distortion: Like the mic, the ideal speaker should transduce with the same power all the frequency bands of the audible spectrum (20 Hz to 20 KHz). As this is quite complicated to achieve with a single loudspeaker, the loudspeakers usually have several loudspeakers, each specialized in delivering power in a certain frequency range.\n",
    "\n",
    "4. Directionality: Like the mic, the speakers can be designed to send power equally to the three dimensions of space (omnidirectional), forward and backward (bidirectional) and only in one direction (unidirectional).\n",
    "\n",
    "* Depending of the compositing frecuencies, se talk about:\n",
    "    1. Infrasounds: those sounds with a frequency smaller than $20$ Hz (not perceptible by humans).\n",
    "    2. Audible sounds: between $20$ and $20{.}000$ Hz.\n",
    "    3. Ultrasounds: over $20{.}000$ Hz. Also unnoticeable.\n",
    "* These frequency ranges vary between individuals. These values are average values."
   ]
  },
  {
   "cell_type": "markdown",
   "metadata": {},
   "source": [
    "## The audio amplifier\n",
    "\n",
    "* It is an analog device that amplifies audio signals. Its inputs and outputs are analog and if this were not so, it is because a D/A or A/D conversion occurs inside.\n",
    "\n",
    "<img src=\"data/800px-Harumphy_Quad_ii.jpg\">"
   ]
  },
  {
   "cell_type": "markdown",
   "metadata": {},
   "source": [
    "## Operation of an amplifier\n",
    "\n",
    "* Most amplifiers are designed from transistors and/or vacuum valves. An element of this type is an electronic device that has three \"legs\": (1) the emitter, (2) the base and the (3) collector. The base controls the amount of direct current that the transistor crosses from the emitter to the collector. If we call $I_b$ the current that enters through the base, the current that passes through the transistor is\n",
    "$$I = \\beta × I_b,$$\n",
    "where $\\beta$ is the gain of the transistor.\n",
    "\n",
    "* Very schematically, an amplifier, a microphone and a speaker are related as follows:\n",
    "\n",
    "<img src=\"data/transistor.png\" width=400>\n",
    "\n",
    "* The amplification level depends on the gain $beta$, since it defines the relationship between the amplitudes of the input signal $I_b$ and the output $I$. This gain is controlled by the volume potentiometer of the amplifier. For example, if $\\beta=2$:\n",
    "\n",
    "<img src=\"data/amplificacion.png\" width=500>"
   ]
  },
  {
   "cell_type": "markdown",
   "metadata": {},
   "source": [
    "## Main characteristics of audio amplifiers\n",
    "\n",
    "* Power: Refers to the maximum electrical power (measured in watts) that can give the amplifier before it distorts.\n",
    "\n",
    "<img src=\"data/distorsion.png\" width=500>\n",
    "\n",
    "* Linearity: The ideal amplifier amplifies exactly all the amplitudes of input current with the same gain. Currently, the most linear amplifiers are those that are built with valves.\n",
    "\n",
    "* Frequency response or harmonic distortion: Like a mic or a loudspeaker, the ideal amplifier should transduce all the frequency bands of the audible spectrum (20 Hz to 20 KHz) with the same power. When faced with a pure sinusoidal signal, most amplifiers tend to generate harmonics and/or to produce spectral dispersion (around the pure tone other lower intensity tones appear in the frequency).\n",
    "\n",
    "* The signal-to-noise ratio: All electronic elements produce electronic noise (from thermal sources, interference, etc.). The relationship between the power of the noise and the maximum signal power that can be amplified, is known as SNR (Signal-to-Nose Ratio)."
   ]
  },
  {
   "cell_type": "markdown",
   "metadata": {},
   "source": [
    "## Storage media\n",
    "\n",
    "1. The vinyl record: Appeared at the beginning of the 20th century. It is a vinyl plastic disk in which a spiral groove (that has microscopic deformations) is scratched. A needle (ideally of diamond) slides through the groove and vibrates because of these deformations. Finally, these vibrations are transduced (using a special type of micro) to electrical signals.\n",
    "\n",
    "2. The magnetic tape: It appeared in the middle of the XX century. It consists of a flexible plastic band impregnated with some ferromagnetic material (usually iron oxide or chromium oxide). A coil (head) moves along the tape and magnetizes the material at the time it is recorded on the tape. When reproduced, the magnetized material induces an electric current in the coil."
   ]
  },
  {
   "cell_type": "markdown",
   "metadata": {},
   "source": [
    "## Noise reduction systems\n",
    "\n",
    "* As already indicated, there is no active electronic element (ampli¡fier) or passive (storage) that is free of noise. To reduce it as much as possible, noise reduction systems were devised, especially for magnetic tapes that have a noise that is significantly audible in the absence of a signal.\n",
    "\n",
    "* The noise produced by a magnetic tape is of white type (occupies the entire frequency range) and has a constant volume, but small. As we know, the HAS is not able to perceive the weak sounds in the presence of the strong ones and therefore, the noise of a tape will only be perceptible when the signal to register is weak.\n",
    "\n",
    "* Dolby Laboratories became famous for designing (and patenting) the first noise reduction system for magnetic tapes. Before recording the signal, a Dolby NR system (Noise Reduction) on the tape proceeds to amplify the low amplitudes and attenuate the high amplitudes, following a logarithmic scale (this is what is known as a audio (analog) compressor). After reading the distorted signal of the tape, it is necessary to attenuate (using an audio expander) the low amplitudes and to amplify the high ones, obtaining the original signal. Since the noise is of low amplitude, the expander attenuates it. The effect is a reproduction of greater fidelity.\n",
    "\n",
    "<img src=\"data/DolbyNR.png\">"
   ]
  },
  {
   "cell_type": "markdown",
   "metadata": {},
   "source": [
    "## Number of channels\n",
    "\n",
    "1. Monophonic systems: They have a single audio channel.\n",
    "2. Stereo systems: They have two channels, one for the left ear ($L$) and the other for the right ($R$).\n",
    "3. Dolby Surround: They have two channels, but the appearance of two others can be simulated. In the late 70s, Ray Dolby patented the Dolby Surround system. At that time, stereo systems were only used in movie theaters and Dolby had the happy idea of creating two more virtual channels called central ($C$) and surround or surround ($S$).\n",
    "\n",
    "  The success of Dolby was due to the fact that the system was completely compatible with normal stereo systems: a tape or a disc recorded with Surround could be heard on normal equipments, with two speakers.\n",
    "\n",
    "  In many episodes of a stereo recording, the content of the L and R channels are practically identical. This can happen, for example, when an airplane located right in front (in the center of the screen) comes in our direction, passes over our head and goes off on our backs.\n",
    "\n",
    "  In order to realize that the plane is the source of the sound, Dolby proposed placing a channel called \"center\" ($C$) just behind the fabric of the screen and another called \"surround\" ($S$) at our back. By definition,\n",
    "  \n",
    "  $$C = L + R$$\n",
    "  $$S = L - R.$$\n",
    "\n",
    "  Dolby knew that the ear is not sensitive to the phase of the signal, only to its amplitude and proposed to encode the back channel as the difference of the phase of $L$ and the phase of $R$. Defacing an audio signal with respect to another means delaying it in time some milliseconds. In the airplane scene, where $L = R$ is satisfied, when there is no lag:\n",
    "  $$ C = L + R = 2R = 2L$$\n",
    "  $$ S = R - L = 0.$$\n",
    "\n",
    "  And when there is a maximum phase shift ($180^o$):\n",
    "  $$C = L + R = R + R = 0$$\n",
    "  $$S = R - L = 2R = 2L$$.\n",
    "  \n",
    "* Thus, if we do not want the central channel to sound anything, $L$ and $R$ should be phased $180^o$, and vice versa. And $L$ and $R$ are heard as before, whether or not there is a lag.\n",
    "\n",
    "4. Dolby Digital (DD): This is a digital storage system with 5.1 channels: $L$, $R$, $C$, $RL$ (Rear Left) and $RR$ (Rear Right). The \".1\" reference to the LFE channel (Low Frequency Effect), a low frequency channel (normally centered at 120 Hz).\n",
    "\n",
    "5. Digital Theater System (DTS): It has the same number of channels as DD, although it supports higher sampling frequencies and arithmetic precision to represent audio samples."
   ]
  },
  {
   "cell_type": "code",
   "execution_count": null,
   "metadata": {},
   "outputs": [],
   "source": []
  }
 ],
 "metadata": {
  "kernelspec": {
   "display_name": "Python 3",
   "language": "python",
   "name": "python3"
  },
  "language_info": {
   "codemirror_mode": {
    "name": "ipython",
    "version": 3
   },
   "file_extension": ".py",
   "mimetype": "text/x-python",
   "name": "python",
   "nbconvert_exporter": "python",
   "pygments_lexer": "ipython3",
   "version": "3.6.4"
  }
 },
 "nbformat": 4,
 "nbformat_minor": 2
}
