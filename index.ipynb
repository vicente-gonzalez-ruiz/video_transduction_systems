{
 "cells": [
  {
   "cell_type": "markdown",
   "metadata": {},
   "source": [
    "# Video transduction systems"
   ]
  },
  {
   "cell_type": "markdown",
   "metadata": {},
   "source": [
    "## The telescope\n",
    "\n",
    "* Historians say that the telescope was invented by the Dutch optician Hans Lippershey in the early seventeenth century. However, the first astronomical discoveries (such as the observation of the phases of Venus or the main moons of Jupiter) were carried out by the Italian physicist and astronomer Galileo Galiei. Thanks to his observations he discovered that the Earth revolved around the Sun, and not the other way around, as the Church maintained, and for that reason he was condemned to life imprisonment.\n",
    "\n",
    "* Basically, a telescope is an instrument that collects light and concentrates it at a point, where we put the eye, a CCD or a photographic film. In this way, objects can be observed that, due to their distance, bring to us a quantity of luminous radiation that can not be perceived by the naked eye."
   ]
  },
  {
   "cell_type": "markdown",
   "metadata": {},
   "source": [
    "### The refractor telescope\n",
    "\n",
    "* It was the first type of telescope invented, and it is the kind of telescope that Galileo used.\n",
    "* It uses a system of at least two converging lenses (one for the objetive and one eyepiece).\n",
    "\n",
    "<img src=\"data/refractor.png\">\n",
    "\n",
    "* There are oculars with more than one lens in order to avoid the chromatic aberration that, because the different electromagnetic signals with different wavelengths (colors) are refracted at different angles, causes the observed aureoles with the colors of the rainbow.\n",
    "\n",
    "|     |\n",
    ":---: | :---: |:---:\n",
    "![alt](data/chromaticaberration3.jpg) | ![alt](data/chromaticaberration2.jpg) | ![alt](data/doblete.jpg)\n",
    "Cause | Effect | Solution \n",
    "\n",
    "![](data/aberracion_cromatica.jpg)"
   ]
  },
  {
   "cell_type": "markdown",
   "metadata": {},
   "source": [
    "### The reflector telescope\n",
    "\n",
    "* In these telescopes the objective is a concave mirror and the eyepiece is a converging lens.\n",
    "* There are several types:"
   ]
  },
  {
   "cell_type": "markdown",
   "metadata": {},
   "source": [
    "#### 1. The reflector telescope of Newton.\n",
    "\n",
    "In 1671 the English scientist, physicist, philosopher, inventor, alchemist and mathematician Isaac Newton placed a concave mirror and a small flat mirror between the lens and its focal plane at the bottom of a tube with a tilt of 45$^o$ so that the rays that make up the image will deviate 90$^o$ so that it could be observed by an eyepiece placed outside the tube.\n",
    "    \n",
    "![](data/Newton.png)\n",
    "![](data/Newton-telescope.png)\n",
    "    \n",
    "Having no glasses (except in the eyepiece, of course), there is no chromatic aberration. However, the mirror has to be a perfect parable. If not, the effect of spherical aberration occurs (the Hubble Space Telescope had this defect!).\n",
    "\n",
    "Spherical mirror           |  Parabolic mirror\n",
    ":-------------------------:|:-------------------------:\n",
    "![](data/esferico.jpg)     |  ![](data/parabolico.jpg)\n",
    "\n",
    "With spherical aberration  | Without spherical aberration\n",
    ":-------------------------:|:-------------------------:\n",
    "![](data/con_aberracion_esferica.jpg)  | ![](data/sin_aberracion_esferica.jpg)\n",
    "![](data/con_aberracion_esferica2.jpg) | ![](data/sin_aberracion_esferica2.jpg)"
   ]
  },
  {
   "cell_type": "markdown",
   "metadata": {},
   "source": [
    "#### 2. The Cassegrain reflector telescope.\n",
    "\n",
    "Because of the tilted mirror, Newton's telescope has a blind spot in the center of the \"target\". In 1962, Laurent Cassegrain took advantage of this circumstance to make a hole in it (right in the center) in order to draw light rays through it. For this, he replaced the flat mirror with a convex mirror. In this way we can increase the focal length while maintaining the length of the tube. It also has the advantage of not inverting the observed scenes (from right to left and from top to bottom).\n",
    "\n",
    "![](data/Cassegrain.png)\n",
    "![](data/Cassegrain-telescope.png)\n",
    "\n",
    "Much later, in the twentieth century, many variations of the Cassagrain refractor have emerged, such as [Schmidt-Cassegrain](https://en.wikipedia.org/wiki/Schmidt%E2%80%93Cassegrain_telescope) and [Maksutov-Cassegrain](en.wikipedia.org/wiki/Maksutov/_telescope)."
   ]
  },
  {
   "cell_type": "markdown",
   "metadata": {},
   "source": [
    "### Magnification of a telescope\n",
    "\n",
    "The number of $Z$ magnifications of a telescope is equal to the focal length of the objective $d$ divided by the focal length of the ocular eye $d_0$:\n",
    "\n",
    "<a id='eq:magnification'></a>\n",
    "\\begin{equation}\n",
    "  Z = \\frac{d}{d_0}\n",
    "  \\tag{eq:magnification}\n",
    "  \\label{eq:maginfication}\n",
    "\\end{equation}\n",
    "\n",
    "(In ZxD binoculars, the first value, Z, indicates the magnification and the second, D, the diameter, in millimeters, of the objectives.)\n",
    "\n",
    "[For example](http://www.astrosurf.com/astronosur/telescopios1.htm), if we use a telescope with a focal length of 910 millimeters, with a typical eyepiece of 25 mm, the magnification is 36.4x.\n",
    "\n",
    "A variety of interchangeable eyepieces can be used in an acessing telescope, keeping the same objective. The eyepieces that have the shortest focal length are those that produce the greatest increase. If we also put the Barlow lens, the focal length of the telescope multiplies, multiplying, logically, the increases."
   ]
  },
  {
   "cell_type": "markdown",
   "metadata": {},
   "source": [
    "### Focal distance\n",
    "\n",
    "The way in which the focal length of a telescope's objective is calculated depends on whether it is a refractor or reflector telescope."
   ]
  },
  {
   "cell_type": "markdown",
   "metadata": {},
   "source": [
    "#### Refractor\n",
    "For a convergent, biconvex lens, the focal length, that is, the distance from the lens to the focal plane, is calculated as\n",
    "\n",
    "\\begin{equation}\n",
    "  d=\\frac{R_eR_i}{(n-1)R_eR_i},\n",
    "\\end{equation}\n",
    "\n",
    "where $R_e$ is the radius of curvature of the outer surface of the lens, $R_i$ is the radius of curvature of the inner surface of the lens (see the scheme of Newton's refractor telescope) and $n$ is the index of refraction of the light that occurs in the lens, which depends on its wavelength of light and the chemical composition of the lens."
   ]
  },
  {
   "cell_type": "markdown",
   "metadata": {},
   "source": [
    "#### Reflector\n",
    "\n",
    "The main mirror (objective) of a reflecting mirror [must be parabolic](http://www.astrosurf.com/astrocaza/Opticas.html) so that the light concentrates in a single point. By definition, a [parabola](https://en.wikipedia.org/wiki/Parabola) is the set of points on a plane that are the same distance from a fixed point $F$, called the focus of the parabola, that of a fixed line $L$, called the guideline of the parabola, that does not contain the point $F$. The midpoint $V$ between the focus and the directrix is called the vertex of the parabola, and the line that passes through the focus and the vertex is called the axis of the parabola. Reflector telescopes use parabolic mirrors because any ray parallel to the axis of the [parabola](https://www.todoexpertos.com/categorias/ciencias-e-ingenieria/matematicas/respuestas/1341850/calculo-de-la-longitud-de-la-parabola) and reflected in it passes through the focus.\n",
    "\n",
    "<img src=\"data/parabola.png\" width=400>\n",
    "\n",
    "The equation of a parabola responds to the expression:\n",
    "\\begin{equation}\n",
    "    y = ax^2+bx+c,\n",
    "\\end{equation}\n",
    "where $b$ and $c$ define the position of $V$ in the plane, and defines the opening of the parabola. Any parabola can be constructed from $F$ and $L$, being the minimum distance between both elements of\n",
    "\\begin{equation}\n",
    "   p=\\frac{2}{a}.\n",
    "\\end{equation}\n",
    "\n",
    "Assuming that $b=c=0$, that is, that the $V$ is in the point (0,0), which for the calculation of the focal length is assumable, the distance of $F$ to $V$ (the focal distance) is\n",
    "\\begin{equation}\n",
    "   d=\\frac{p}{2} = a^{-1}.\n",
    "\\end{equation}\n",
    "\n",
    "(Remember that the vertex is always halfway between the directrix and the focus of the parabola.)"
   ]
  },
  {
   "cell_type": "markdown",
   "metadata": {},
   "source": [
    "### Resolution\n",
    "\n",
    "It is called resolution (or separating power) of a telescope to the ability to individually show two objects that are very close together. The resolution is usually linked to the diameter of the lens, given that the larger the diameter, the greater the separating power of the instrument.\n",
    "\n",
    "(In the case of a reflecting telescope, for example, the larger the mirror, the less its possible imperfections are apparent, such as spherical aberration, scratches, dust spots, fingerprints, etc.)\n",
    "\n",
    "The resolution does not depend on the magnification used, only on the quality of the elements that make up the telescope.\n",
    "\n",
    "<img src=\"data/difraccion_Fraunhofer.jpg\">\n",
    "\n",
    "The lack of resolution causes an effect known as Fraunhofer's Diffraction. This aberration causes a spot light spot observed by the telescope to be observed through it as a [sampling function](https://cdn.rawgit.com/vicente-gonzalez-ruiz/Harmonic_Analysis/master/index.html#Fourier-transform-of-the-Rectangular-Signal-$Ag_\\tau(t)$:-the-Sinc-signal)."
   ]
  },
  {
   "cell_type": "markdown",
   "metadata": {},
   "source": [
    "### Luminosity\n",
    "\n",
    "Luminosity is an essential aspect because the brighter a telescope is, the weaker the objects observed can be. The brightness of a telescope depends on both the brightness of the lens and the brightness of the eyepiece.\n",
    "\n",
    "The luminosity is inversely proportional to what is known as the focal relationship. The focal ratio $f$ (of a mirror or a lens) is calculated as the ratio between the focal length $d$ and its diameter $D$, i.e.\n",
    "\n",
    "<a id='eq:relacion_focal'></a>\n",
    "\\begin{equation}\n",
    "   f=\\frac{d}{D}.\n",
    "   \\label{eq:relacion_focal}\n",
    "  \\tag{eq:relacion_focal}\n",
    "\\end{equation}\n",
    "\n",
    "Therefore, the larger the main mirror of a re fl ector or the main lens of a refractor, the more light it will collect, and the brighter the telescope will be. The same happens if the focal distance is smaller."
   ]
  },
  {
   "cell_type": "markdown",
   "metadata": {},
   "source": [
    "### Field of view\n",
    "\n",
    "Define how much of the sky we can see when we look through the eyepiece.\n",
    "\n",
    "The field (or angle) of vision is inversely proportional to the magnifications of the telescope (ratio between the focal lengths of the objective and the eyepiece (see [eq:magnification](#eq:magnification))."
   ]
  },
  {
   "cell_type": "markdown",
   "metadata": {},
   "source": [
    "## Photographic objectives\n",
    "\n",
    "The photographic lenses are basically refractor telescopes with few magnifications, although there are also Cassegrain-type reflective objectives when many increases are demanded.\n",
    "\n",
    "<img src=\"data/Sony_Alpha_55_with_Minolta_500_F8_Reflex.jpg\">\n",
    "\n",
    "They generally have smaller focal lengths (less magnification) than telescopes and, therefore, large fields of vision.\n",
    "\n",
    "The most important parameters of a photographic objective are:\n",
    "\n",
    "1. The range of focal lengths (the range of magnifications). It is measured in millimeters. A more millimeters, more zoom.\n",
    "\n",
    "2. The luminosity. It is measured using the focal ratio (see [eq:relacion_focal](#eq:relacion_focal)). The photographic lenses, having a diaphragm, have a variable D. At lower f, more luminosity.\n",
    "\n",
    "<img src=\"data/diafragma-desnudo.jpg\">"
   ]
  },
  {
   "cell_type": "markdown",
   "metadata": {},
   "source": [
    "### Targets with fixed focus versus zoom lenses\n",
    "\n",
    "As its name suggests, fixed length targets only provide a fixed value of increases. On the other hand, the image quality is generally higher (at the same price) to those who have zoom because in a lens with variable focal length the lenses tend to suffer small imbalances in their situation within the lens (the lenses move from their ideal position)."
   ]
  },
  {
   "cell_type": "markdown",
   "metadata": {},
   "source": [
    "### The focus\n",
    "\n",
    "All telescopes are focused on infinity. However, photographic lenses allow you to vary the focus distance, from infinity to a few centimeters.\n",
    "\n",
    "When a objective focuses at a certain distance, objects at other distances appear blurry (unfocused).\n",
    "\n",
    "<img src=\"data/800px-DOF-ShallowDepthofField.jpg\">"
   ]
  },
  {
   "cell_type": "markdown",
   "metadata": {},
   "source": [
    "### The depth of field\n",
    "\n",
    "The depth of field is the maximum distance at which the objects can be separated from the focusing distance, and still these objects remain (partially) focused.\n",
    "\n",
    "<div id=\"image-table\">\n",
    "    <table>\n",
    "\t    <tr>\n",
    "    \t    <td style=\"padding:5px\">\n",
    "                <img src=\"data/Jonquil_flowers_at_f5.jpg\" width=400>\n",
    "                With little depth\n",
    "      \t    </td>\n",
    "            <td style=\"padding:5px\">\n",
    "            \t<img src=\"data/800px-Jonquil_flowers_at_f32.jpg\" width=400>\n",
    "                With big depth\n",
    "             </td>\n",
    "        </tr>\n",
    "    </table>\n",
    "</div>"
   ]
  },
  {
   "cell_type": "markdown",
   "metadata": {},
   "source": [
    "### The exposure time\n",
    "\n",
    "During the capture, the photographic film in the analog cameras or the CCD in the digital one, the amount of light taken is proportional to the light intensity and the exposure time. Therefore, when the light is weak, the exposure time should increase and the diaphragm should open.\n",
    "\n",
    "If the light radiation is excessive, the photograph taken is said to be overprinted, overexposed or \"burned\". If the radiation has been insufficient, it is said to be underexposed.\n",
    "\n",
    "The exposure time controls, of course, the recording of the movement of moving objects that are photographed.\n",
    "\n",
    "<div id=\"image-table\">\n",
    "    <table>\n",
    "\t    <tr>\n",
    "    \t    <td style=\"padding:5px\">\n",
    "                <img src=\"data/800px-E17_-_korte_sluitertijd.jpg\" width=400>\n",
    "                Short exposure time\n",
    "      \t    </td>\n",
    "            <td style=\"padding:5px\">\n",
    "            \t<img src=\"data/800px-E17_-_lange_sluitertijd.jpg\" width=400>\n",
    "                Long exposure time\n",
    "             </td>\n",
    "        </tr>\n",
    "    </table>\n",
    "</div>"
   ]
  },
  {
   "cell_type": "markdown",
   "metadata": {},
   "source": [
    "### The diaphragm\n",
    "\n",
    "Only photographic lenses have a diaphragm.\n",
    "\n",
    "The diaphragm limits the amount of light that passes through the lens to the photographic film or CCD. Therefore, if we open the diaphragm we should reduce the exposure times and vice versa.\n",
    "\n",
    "<img src=\"data/diafragma.jpg\">\n",
    "\n",
    "The opening of the diaphragm also controls the depth of field (when we open the diaphragm the depth of field decreases and vice versa). To understand this, imagine a camera obscura, or a Web-cam, where the size of the diaphragm is almost punctual. In these two elements, all objects, from a certain minimum distance, appear focused in the plane of the film. This is because the refraction of the light can hardly modify the direction of the light rays when crossing the objective, since the diameter of it is much smaller than the distance from the objective to the object. When we open the diaphragm of a camera, the effective diameter of the lens increases, so that the light rays that strike just the edges of the diaphragm are refracted with different angles (greater) than the rays that pass right through the center of the lens. Then, only that fl ocal plane that converges on the film will be the center of the set (in fi nite) of planes that de fi ne the depth of field. The rest of the planes, being at different distances, are focused in front of or behind the film.\n",
    "\n",
    "<img src=\"data/diafragma_profundidad_campo_small.png\">"
   ]
  },
  {
   "cell_type": "markdown",
   "metadata": {},
   "source": [
    "### Image stabilization systems\n",
    "\n",
    "When we rotate a disk with enough mass, and try to change its angle of rotation, we will notice that a force appears that prevents this change in angle. This is the beginning of the gyroscope.\n",
    "\n",
    "If we make the lens of the lens rotate at a high speed and also have a certain possibility of movement within it, a small movement of the camera will not be transmitted to the lenses (they are like floating).\n",
    "\n",
    "This fact can be applied to stabilize the image in the film and is the principle of optical image stabilizers (not digital).\n",
    "\n",
    "<img src=\"data/estabilizador.png\" width=400>"
   ]
  },
  {
   "cell_type": "markdown",
   "metadata": {},
   "source": [
    "### The photographic film\n",
    "\n",
    "Photographic film is an emulsion containing a light-sensitive substance (such as silver nitrate) on a plastic layer.\n",
    "\n",
    "Photographic film can be sensitive to different wavelengths of the electromagnetic radiation that it indexes, including infrared, ultraviolet and X rays.\n",
    "\n",
    "<img src=\"data/pelicula_fotografica.png\">"
   ]
  },
  {
   "cell_type": "markdown",
   "metadata": {},
   "source": [
    "#### Types of film\n",
    "\n",
    "Photographic films are classified in different ways, depending on the use they receive:\n",
    "\n",
    "1. Film in black and white or in color. Black and white photography uses a single layer of silver nitrate, while color films use three layers. In case of color, each layer is only sensitive to a different color range. In the case of black and white the film is sensitive to the amount of light (luminance).\n",
    "\n",
    "2. Negative or slide When a negative is used, the film reacts inversely to the amount of radiation received. In the case of the slide, the sesibilidad is directly proportional. This has the advantage that we can look directly through the film (which is usually transparent) to see the picture.\n",
    "\n",
    "3. Infrared or normal (visible) film, etc. There are photographic films that only react to the heat of the photographed objects."
   ]
  },
  {
   "cell_type": "markdown",
   "metadata": {},
   "source": [
    "#### The sensitivity of the film\n",
    "\n",
    "It refers to the amount of light that must affect the photographic film (or the CCD) so that it (e) is impressed (loaded).\n",
    "\n",
    "It is measured in ISO X, where X is usually a whole number. The higher the X, the more sensitive the film is, although the greater is also the grain (lower the resolution).\n",
    "\n",
    "Something similar occurs in the CCDs. The resolution is constant (it is digital), but when we increase the ISOs, the electronic noise of the CCD increases (it becomes more sensitive).\n",
    "\n",
    "<img src=\"data/Korn_HP4_ISO1600.jpg\">\n",
    "Detail of the grain size of the silver nitrate salts in a negative in plank and black of ISO1600"
   ]
  },
  {
   "cell_type": "markdown",
   "metadata": {},
   "source": [
    "## The CCD (Charging Couple Device)\n",
    "\n",
    "<img src=\"data/CCD.jpg\">\n",
    "\n",
    "The CCD's (as happens with the LED's, although in this case the other way around) are based on the photoelectric effect. They are an array of millions of small photovoltaic cells (usually silicon-based capacitors) that accumulate electrons when photons strike them.\n",
    "\n",
    "Once the cells have been charged (in proportion to the amount of light received), the chip functions as a large shift register in which each row of capacitors is copied synchronously (systically) to the neighbor row, in one direction. The line that does not have a neighbor to send its content does so on an array of amplifiers that is connected to the data output bus of the CCD.\n",
    "\n",
    "To capture color, a mesh of red, green and blue filters is placed over the capacitors, which let only the corresponding type of light pass through.\n",
    "\n",
    "<img src=\"data/Bayer_pattern_on_sensor_small.png\">"
   ]
  },
  {
   "cell_type": "markdown",
   "metadata": {},
   "source": [
    "### Reproduction of digital (PCM) video\n",
    "\n",
    "Conversion digital (PCM) image/video to “analog” image/video:\n",
    "\n",
    "1. Indexes (codes) are converted to a PCM (electrical) signal.\n",
    "2. Using some device (LCD (Liquid Crystal Display) screen/projector, plasma screen, DLP (Digital Light Processing) projector, ...), the electrical energy of the signal is transduced to electromagnetic energy, producing light.\n",
    "\n",
    "<img src=\"data/LCD_close_up.jpg\" width=600>"
   ]
  },
  {
   "cell_type": "markdown",
   "metadata": {},
   "source": [
    "### Stereoscopy\n",
    "\n",
    "Stereoscopy or stereoscopic vision allows to perceive the depth of objects.\n",
    "\n",
    "It is as simple as getting the image corresponding to the left eye and the same for the right eye to the left eye.\n",
    "\n",
    "<img src=\"data/estereoscopia.png\" width=500>"
   ]
  },
  {
   "cell_type": "markdown",
   "metadata": {},
   "source": [
    "#### Stereoscopy with two independent images\n",
    "\n",
    "Son los que mejores resultados presentan.\n",
    "\n",
    "They consist of taking two photos, taken for example with a camera, and presenting each eye with the appropriate image, in the correct position:\n",
    "\n",
    "1. Using two slides and two slide viewers. Each eye with its corresponding slide.\n",
    "\n",
    "<img src=\"data/visor_diapositiva.jpg\" width=500>\n",
    "\n",
    "2. Using two viewers and two images printed on paper. Each eye with its corresponding image on paper.\n",
    "\n",
    "<img src=\"data/estereograma_papel.png\" width=500> Stereogram\n",
    "<img src=\"data/estereoscopio_papel.png\" width=500> Stereoscope\n",
    "\n",
    "3. Using a mirror and two images. The mirror rests on the nose and looks towards it. One eye sees the image directly on the paper and the other sees it reflected.\n",
    "\n",
    "<img src=\"data/OverviewJohn_2.jpg\" width=500>"
   ]
  },
  {
   "cell_type": "markdown",
   "metadata": {},
   "source": [
    "#### Stereography with polarized glasses\n",
    "\n",
    "These systems are suitable for watching videos and is the system currently most used in film (the first ones were the creators of Imax 3D). It is also used in 3D TVs.\n",
    "\n",
    "Each eye sees through a polarized crystal an image that consists of two superimposed images, although each one generates polarized light. In this way each eye receives only one image.\n",
    "\n",
    "<img src=\"data/Imax-BN.jpg\">"
   ]
  },
  {
   "cell_type": "markdown",
   "metadata": {},
   "source": [
    "#### Stereograms with virtual reality glasses\n",
    "\n",
    "Each eye perceives the image of a different digital display through what is known as a Head Mounted Display.\n",
    "\n",
    "<img src=\"data/head_mounted_display.png\">"
   ]
  },
  {
   "cell_type": "markdown",
   "metadata": {},
   "source": [
    "#### Stereoscopy with synchronous glasses\n",
    "\n",
    "Until recently it was one of the 3D systems used in the cinema. Currently used in 3D TVs.\n",
    "\n",
    "Each eye perceives the image of the same display, although even images are presented only to one eye and odd images to the other. The glasses have a black liquid crystal that covers each eye synchronously with the monitor. If the number of images / second is not sufficient (at least 50), flicker is noted.\n",
    "\n",
    "<img src=\"data/gafas_sincronas.png\">"
   ]
  },
  {
   "cell_type": "markdown",
   "metadata": {},
   "source": [
    "#### Stereoscopy with anaglyphs\n",
    "\n",
    "Using glasses with bandpass fi lters, whose colors (frequency band) are on opposite sides of the color circumference (anaglyph), we get the corresponding image to each eye.\n",
    "\n",
    "<img src=\"data/circulo_colores.png\">\n",
    "<img src=\"data/gafas.png\">\n",
    "<img src=\"data/Dusk_on_Desert.jpg\">"
   ]
  },
  {
   "cell_type": "markdown",
   "metadata": {},
   "source": [
    "#### Stereoscopy with auto-stereograms of random points\n",
    "\n",
    "It consists in drawing points, which at first glance seem to be placed randomly, but when they are perceived in different positions by each eye when the view is focused within the image, they generate a 3D sensation.\n",
    "\n",
    "If we look, all stereograms tend to be periodic on the horizontal axis. This is used to conveniently paint the \"random\" points so that when perceived (focusing within the image) they give a sense of depth.\n",
    "\n",
    "<img src=\"data/estereograma1.jpg\">"
   ]
  },
  {
   "cell_type": "markdown",
   "metadata": {},
   "source": [
    "#### Stereo monitors\n",
    "\n",
    "They are based on placing a vertical lenticular transparent sheet, so that the light that starts from the odd columns is refracted in one direction and the light that starts from the pairs columas in another direction. The spectator must stand in front of the screen and at a specific distance, to allow each beam of light to enter the corresponding eye. There is some fl exibility with the height of the viewer in front of the monitor.\n",
    "\n",
    "<img src=\"data/lenticular.png\">\n",
    "\n",
    "There are also versions where the sensation of stereo depends on whether we look up and down. In this type of monitors, the lenticular lens is concentric and the spectator can only be at a certain height of the monitor."
   ]
  },
  {
   "cell_type": "markdown",
   "metadata": {},
   "source": [
    "#### Two monitors, a semi-mirror and polarized glasses\n",
    "\n",
    "It consists of placing two monitors at 90 degrees, one horizontally and the other vertically. In the plane that forms 45 degrees each monitor is placed a semi-transparent mirror that also polarizes the light. Finally, the user uses glasses with different polarizations for each eye, so that each monitor is seen only by a different eye.\n",
    "\n",
    "<img src=\"data/SD2620W-351.jpg\">"
   ]
  },
  {
   "cell_type": "code",
   "execution_count": null,
   "metadata": {},
   "outputs": [],
   "source": []
  }
 ],
 "metadata": {
  "kernelspec": {
   "display_name": "Python 3",
   "language": "python",
   "name": "python3"
  },
  "language_info": {
   "codemirror_mode": {
    "name": "ipython",
    "version": 3
   },
   "file_extension": ".py",
   "mimetype": "text/x-python",
   "name": "python",
   "nbconvert_exporter": "python",
   "pygments_lexer": "ipython3",
   "version": "3.6.3"
  }
 },
 "nbformat": 4,
 "nbformat_minor": 2
}
